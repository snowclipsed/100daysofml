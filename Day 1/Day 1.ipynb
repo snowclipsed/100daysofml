{
 "cells": [
  {
   "attachments": {},
   "cell_type": "markdown",
   "id": "402a42cd",
   "metadata": {},
   "source": [
    "<h1 align = center> 100 Days of Machine Learning - Day 1"
   ]
  },
  {
   "attachments": {},
   "cell_type": "markdown",
   "id": "cf58a129",
   "metadata": {},
   "source": [
    "100 days of machine learning is a tech challenge where the participants spend 100 continuous days studying, learning and coding machine learning concepts. It involves dedicating a certain amount of time each day to engage in ML-related activities, such as reading books, watching tutorials, completing online courses, working on projects, or participating in coding exercises. The goal is to develop a consistent learning habit and make significant progress in ML skills over the course of 100 days."
   ]
  },
  {
   "attachments": {},
   "cell_type": "markdown",
   "id": "42a349de",
   "metadata": {},
   "source": [
    "<h1>Table of Contents</h1>"
   ]
  },
  {
   "attachments": {},
   "cell_type": "markdown",
   "id": "5a535121",
   "metadata": {},
   "source": [
    "<ol>\n",
    "  <li>What is Machine Learning?</li>\n",
    "  <li>\n",
    "    Types of Machine Learning\n",
    "    <ol>\n",
    "      <li>\n",
    "        Supervised Learning\n",
    "        <ol>\n",
    "          <li>Classification Tasks</li>\n",
    "          <li>Regression Tasks</li>\n",
    "        </ol>\n",
    "      </li>\n",
    "      <li>\n",
    "        Unsupervised Learning\n",
    "          <ol>\n",
    "            <li>Clustering Tasks</li>\n",
    "        </ol>\n",
    "      </li>\n",
    "    </ol>\n",
    "  </li>\n",
    "</ol>\n"
   ]
  },
  {
   "attachments": {},
   "cell_type": "markdown",
   "id": "4921ca94",
   "metadata": {},
   "source": [
    "<h2> What is Machine Learning? </h2>"
   ]
  },
  {
   "attachments": {},
   "cell_type": "markdown",
   "id": "5bf903c5",
   "metadata": {},
   "source": [
    "Machine learning or ML in short, is exactly what it sounds like - it is a method or a process through which machines can learn how to learn a specific task through repeated experience. It is a computer or a learning system's ability to learn something without being explicitly programmed to do so. "
   ]
  },
  {
   "attachments": {},
   "cell_type": "markdown",
   "id": "bc1f7639",
   "metadata": {},
   "source": [
    "A machine system is said to learn from experience E, when it performs a set of tasks T which have a performance measure P when the performance P of the system at executing the tasks T increases with increasing experience E.\n",
    "\n",
    "Example : \n",
    "Checkers\n",
    "\n",
    "T : Play a game of checkers\n",
    "\n",
    "P : Win or Lose the game\n",
    "\n",
    "E : Play lots of games against itself or opponent"
   ]
  },
  {
   "cell_type": "code",
   "execution_count": 12,
   "id": "8c958514",
   "metadata": {},
   "outputs": [
    {
     "data": {
      "text/html": [
       "<img src=\"https://mermaid.ink/img/CmdyYXBoIFREOwpNYWNoaW5lX0xlYXJuaW5nIC0tPiBTdXBlcnZpc2VkX0xlYXJuaW5nCk1hY2hpbmVfTGVhcm5pbmcgLS0+IFVuc3VwZXJ2aXNlZF9MZWFybmluZwpTdXBlcnZpc2VkX0xlYXJuaW5nIC0tPiBDbGFzc2lmaWNhdGlvbgpTdXBlcnZpc2VkX0xlYXJuaW5nIC0tPiBSZWdyZXNzaW9uClVuc3VwZXJ2aXNlZF9MZWFybmluZyAtLT4gQ2x1c3RlcmluZwpVbnN1cGVydmlzZWRfTGVhcm5pbmcgLS0+IEFzc29jaWF0aW9uCg==\"/>"
      ],
      "text/plain": [
       "<IPython.core.display.Image object>"
      ]
     },
     "metadata": {},
     "output_type": "display_data"
    }
   ],
   "source": [
    "import base64\n",
    "from IPython.display import Image, display\n",
    "import matplotlib.pyplot as plt\n",
    "\n",
    "def mm(graph):\n",
    "  graphbytes = graph.encode(\"ascii\")\n",
    "  base64_bytes = base64.b64encode(graphbytes)\n",
    "  base64_string = base64_bytes.decode(\"ascii\")\n",
    "  display(\n",
    "    Image(\n",
    "      url=\"https://mermaid.ink/img/\"\n",
    "      + base64_string\n",
    "    )\n",
    "  )\n",
    "\n",
    "mm(\"\"\"\n",
    "graph TD;\n",
    "Machine_Learning --> Supervised_Learning\n",
    "Machine_Learning --> Unsupervised_Learning\n",
    "Supervised_Learning --> Classification\n",
    "Supervised_Learning --> Regression\n",
    "Unsupervised_Learning --> Clustering\n",
    "Unsupervised_Learning --> Association\n",
    "\"\"\")"
   ]
  },
  {
   "attachments": {},
   "cell_type": "markdown",
   "id": "a89134bd",
   "metadata": {},
   "source": [
    "## Types of Machine Learning"
   ]
  },
  {
   "attachments": {},
   "cell_type": "markdown",
   "id": "e8ed5842",
   "metadata": {},
   "source": [
    "ML problems can be generally categorized into two types:\n",
    "\n",
    "1. Supervised Learning\n",
    "2. Unsupervised Learning"
   ]
  },
  {
   "attachments": {},
   "cell_type": "markdown",
   "id": "c0f00b3d",
   "metadata": {},
   "source": [
    "## Supervised Learning"
   ]
  },
  {
   "attachments": {},
   "cell_type": "markdown",
   "id": "3a4f0c6a",
   "metadata": {},
   "source": [
    "Supervised Learning is a series or a class of ML problems that involve learning through the process of supervision or providing the right answer. Supervised learning involves the usage of 'labeled data' : or data which has the inputs mapped to the outputs. The goal of supervised learning algorithms is to mimic or learn from that mapping of inputs and the right outputs to predict the outputs from unseen data.\n",
    "\n",
    "$$\n",
    "\\textcolor{blue}{X} \\rightarrow \\textcolor{red}{Y}\n",
    "$$\n",
    "\n",
    "Supervised learning can be thought of as a teacher supervising the learning process of a student by correcting the algorithm whenever it makes a mistake, and making the algorithm repeat and train again and again till an acceptable level of performance is achieved. When the model is trained and performs well on testing data, in an ideal scenario it will correctly identify the right response for unseen values.\n",
    "\n",
    "Supervised learning is used for many scenarios such as spam filtering, image classification, image generation, and more. Most machine learning problems are concerned with supervised learning"
   ]
  },
  {
   "attachments": {},
   "cell_type": "markdown",
   "id": "23ef6def",
   "metadata": {},
   "source": [
    "## Classification Problems"
   ]
  },
  {
   "attachments": {},
   "cell_type": "markdown",
   "id": "0d6ca2f7",
   "metadata": {},
   "source": [
    "A classification problems are a subset of supervised learning problems where the task at hand requires the ML model to correctly predict the category or 'class' out of a set of given classes that an input may belong to.\n",
    "\n",
    "A classification algorithms requires an input dataset consisting of input features and the mapping of those input features to the output. The input data consists of a set of features or attributes, and the output is a discrete class or category. The input features can be numerical, categorical, or a combination of both. Here are a few examples of classification problems:\n",
    "\n",
    "1. Email Spam Classification: Given the content and metadata of an email, classify it as either spam or not spam.\n",
    "\n",
    "2. Image Object Recognition: Given an image, determine whether it contains specific objects or classes, such as cats, dogs, or cars.\n",
    "\n",
    "3. Sentiment Analysis: Given a text review or social media post, classify it as positive, negative, or neutral sentiment.\n",
    "\n",
    "4. Disease Diagnosis: Given medical test results and patient data, classify whether a person has a specific disease or condition.\n",
    "\n",
    "5. Credit Risk Assessment: Given financial and personal information, classify whether a loan applicant is likely to default or not.\n"
   ]
  },
  {
   "attachments": {},
   "cell_type": "markdown",
   "id": "a75886ad",
   "metadata": {},
   "source": [
    "## Unsupervised Learning"
   ]
  },
  {
   "attachments": {},
   "cell_type": "markdown",
   "id": "e82b86ef",
   "metadata": {},
   "source": [
    " In unsupervised learning, the model learns patterns, relationships, or structures in the data without any predefined labels or targets. The goal is to explore and discover insights or groupings within the dataset. Common unsupervised learning techniques include clustering algorithms \n",
    "\n",
    " Examples of Algorithms are K-means, hierarchical clustering. \n",
    "\n",
    " Examples of scenarios where unsupervised learning is used are news classification and EDA."
   ]
  },
  {
   "attachments": {},
   "cell_type": "markdown",
   "id": "58ed924f",
   "metadata": {},
   "source": []
  }
 ],
 "metadata": {
  "kernelspec": {
   "display_name": "Python 3",
   "language": "python",
   "name": "python3"
  },
  "language_info": {
   "codemirror_mode": {
    "name": "ipython",
    "version": 3
   },
   "file_extension": ".py",
   "mimetype": "text/x-python",
   "name": "python",
   "nbconvert_exporter": "python",
   "pygments_lexer": "ipython3",
   "version": "3.8.8"
  }
 },
 "nbformat": 4,
 "nbformat_minor": 5
}

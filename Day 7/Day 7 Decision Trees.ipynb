{
 "cells": [
  {
   "attachments": {},
   "cell_type": "markdown",
   "metadata": {},
   "source": [
    "<h1 align = center> 100 Days of Machine Learning - Day 7"
   ]
  },
  {
   "attachments": {},
   "cell_type": "markdown",
   "metadata": {},
   "source": [
    "100 days of machine learning is a tech challenge where the participants spend 100 continuous days studying, learning and coding machine learning concepts. It involves dedicating a certain amount of time each day to engage in ML-related activities, such as reading books, watching tutorials, completing online courses, working on projects, or participating in coding exercises. The goal is to develop a consistent learning habit and make significant progress in ML skills over the course of 100 days."
   ]
  },
  {
   "attachments": {},
   "cell_type": "markdown",
   "metadata": {},
   "source": [
    "# Table of Contents\n",
    "\n",
    "- Decision Trees\n"
   ]
  },
  {
   "attachments": {},
   "cell_type": "markdown",
   "metadata": {},
   "source": [
    "# Decision Trees\n",
    "\n",
    "Decision Trees (DTs) are supervised learning algorithms. They are used for classification as well as regression tasks. As their name suggests, Decision *Trees* have a tree-like structure which comprises of root node, branch nodes and leaf nodes. This structure is heirarichal in nature.\n",
    "\n",
    "<img src = \"https://www.mastersindatascience.org/wp-content/uploads/sites/54/2022/05/tree-graphic.jpg\" height = 500px>\n",
    "\n",
    "The approach behind decision trees is basic but is really effective for a lot of scenarios. A decision tree splits a problem into a number of decisions based on the input features and the target variable. These splits are represented by the root node splitting into several branch nodes, and those branch nodes splitting even further till a leaf node or output is met. This is similar to a biological tree where water from the soil starts from the roots, is transported into either branches depending on where the water is needed, and ends up in a leaf for photosynthesis.\n",
    "\n",
    "## Components of a Decision Tree\n",
    "\n",
    "A decision tree has several components like Root node, Branches, Decision Nodes and Leaf nodes - let's discuss them one by one.\n",
    "\n",
    "- Root Node : A root node is the node/point of origin for the entire decision tree. A root node represents the entire population sample/dataset and the branch nodes originating from the root node then divide this dataset into 2 or more subsets.\n",
    "\n",
    "- Decision Tree :\n",
    "\n",
    "- Branch : A branch is a section of a tree that is formed by \"splitting\" the tree from a decision node or a root node.\n",
    "\n",
    "- D"
   ]
  },
  {
   "attachments": {},
   "cell_type": "markdown",
   "metadata": {},
   "source": []
  }
 ],
 "metadata": {
  "language_info": {
   "name": "python"
  },
  "orig_nbformat": 4
 },
 "nbformat": 4,
 "nbformat_minor": 2
}

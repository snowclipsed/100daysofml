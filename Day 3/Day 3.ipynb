{
 "cells": [
  {
   "attachments": {},
   "cell_type": "markdown",
   "id": "46aba852",
   "metadata": {},
   "source": [
    "<h1 align = center> 100 Days of Machine Learning - Day 2"
   ]
  },
  {
   "attachments": {},
   "cell_type": "markdown",
   "id": "ec6f2690",
   "metadata": {},
   "source": [
    "100 days of machine learning is a tech challenge where the participants spend 100 continuous days studying, learning and coding machine learning concepts. It involves dedicating a certain amount of time each day to engage in ML-related activities, such as reading books, watching tutorials, completing online courses, working on projects, or participating in coding exercises. The goal is to develop a consistent learning habit and make significant progress in ML skills over the course of 100 days."
   ]
  },
  {
   "attachments": {},
   "cell_type": "markdown",
   "id": "703d1dc6",
   "metadata": {},
   "source": [
    "# Table of Contents\n",
    "\n",
    "1. Linear regression"
   ]
  },
  {
   "attachments": {},
   "cell_type": "markdown",
   "id": "21747601",
   "metadata": {},
   "source": [
    "# Linear Regression\n",
    "\n",
    "Linear Regression is one of the most utilized and the most simple machine learning algorithms. In Linear Regression, we fit a straight line to a set of points in order to solve for some target variable. This line is called the regression line and it is a set of points which can best represent all the points scattered on the graph.\n",
    "\n",
    "\n"
   ]
  },
  {
   "attachments": {},
   "cell_type": "markdown",
   "id": "72bd7776",
   "metadata": {},
   "source": [
    "<img src = \"https://www.joshuapkeller.com/page/introregression/IntroRegression_files/figure-html/g-penguin-flip-mass-lm1b-1.png\" height = 300px align = 'center'>"
   ]
  },
  {
   "attachments": {},
   "cell_type": "markdown",
   "id": "b853d323",
   "metadata": {},
   "source": [
    "Linear regression works through a supervised approach. This means we provide the algorithm with a 'training set' containing inputs and the right answers for those inputs, and the model learns to fit a line by using those inputs and right answers as reference.\n",
    "\n",
    "\n",
    "$$\n",
    "x \\rightarrow f(x) \\rightarrow \\hat{y}\n",
    "$$\n",
    "\n",
    "The output of the linear regression model is calculated by looking up the value of ŷ by inputting the value of x.\n",
    "\n",
    "## Types of Linear Regression\n",
    "\n",
    "There are various types of Linear regression approaches:\n",
    "\n",
    "1. Simple Linear Regression\n",
    "\n",
    "2. Multivariable Linear Regression\n",
    "\n",
    "3. Polynomial Regression\n",
    "\n",
    "4. Ridge Regression\n",
    "\n",
    "5. Lasso and Elastic Net Regression\n",
    "\n",
    "Our focus for today will be on simple linear regression (let's call it SLR for short)\n",
    "\n",
    "## Simple Linear Regression (SLR)\n",
    "\n",
    "SLR is a linear regression model where the dependent variable or the output variable like car prices is affected only by one single independent variable or feature, like say - horsepower.\n",
    "\n",
    "For SLR, the regression line is a single straight line that needs to best fit the represented points on a graph. The formular to perform SLR is based off the formula for a straight line : \n",
    "\n",
    "$$\n",
    "f (x) = wx + b\n",
    "$$\n"
   ]
  },
  {
   "attachments": {},
   "cell_type": "markdown",
   "id": "ab3866e6",
   "metadata": {},
   "source": []
  }
 ],
 "metadata": {
  "kernelspec": {
   "display_name": "Python 3",
   "language": "python",
   "name": "python3"
  },
  "language_info": {
   "codemirror_mode": {
    "name": "ipython",
    "version": 3
   },
   "file_extension": ".py",
   "mimetype": "text/x-python",
   "name": "python",
   "nbconvert_exporter": "python",
   "pygments_lexer": "ipython3",
   "version": "3.8.8"
  }
 },
 "nbformat": 4,
 "nbformat_minor": 5
}

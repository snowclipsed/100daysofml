{
 "cells": [
  {
   "attachments": {},
   "cell_type": "markdown",
   "metadata": {},
   "source": [
    "<h1 align = center> 100 Days of Machine Learning - Day 6"
   ]
  },
  {
   "attachments": {},
   "cell_type": "markdown",
   "metadata": {},
   "source": [
    "100 days of machine learning is a tech challenge where the participants spend 100 continuous days studying, learning and coding machine learning concepts. It involves dedicating a certain amount of time each day to engage in ML-related activities, such as reading books, watching tutorials, completing online courses, working on projects, or participating in coding exercises. The goal is to develop a consistent learning habit and make significant progress in ML skills over the course of 100 days."
   ]
  },
  {
   "attachments": {},
   "cell_type": "markdown",
   "metadata": {},
   "source": [
    "# Table of Contents\n",
    "- Feature Selection\n",
    "- Accuracy\n",
    "- Precision\n",
    "- Recall\n",
    "- F1 score\n",
    "- Precision vs Recall Tradeoff"
   ]
  },
  {
   "attachments": {},
   "cell_type": "markdown",
   "metadata": {},
   "source": [
    "# Feature Selection\n",
    "\n",
    "Any real-life dataset comprises of various features and fields that describe the relation of an entity with another. In most datasets, specially big ones, we observe that not all features or fields are strongly correlated (positively or negatively) with each other or atleast with the quantity we are trying to measure or predict (the target variable). If we include all the features present in a dataset, it poses a couple of problems :\n",
    "\n",
    "- High Dimensionality : Dealing with a large number of features also means that the dimensionality of the dataset is increased. A dataset being \"high-dimensional\" means that there are a large number of input features and variables that the model has to consider, analyse and optimize its predictions according to. When a model becomes overly high dimensional, the model becomes incredibly complex and computationaly expensive. Therefore it is important to only select the important features that are correlated with the target variable.\n",
    "\n",
    "    A frequently observed instance of high dimensional data is image data. Images consist of hundreds of pixels and each pixel can be termed as an input feature. Processing all the data for a final model can be very computationally complex, hence it is important to detect and seperate features from the images first using techniques like filters.\n",
    "\n",
    "- Model Performance : If a dataset contains many features, and an amount of those features are poorly correlated with the target variable or contain noise/faulty data- then the model trained on the dataset can be subject to performance problems like overfitting, which occurs when the model learns irrelevant noise and patterns that lead to poor generalization to unseen data but very good performance on training data.\n",
    "\n",
    "    Selecting specific features which are relevant, mathematically correlated or appropriate for the training of the model reduces the amount of noise and faults present in the input dataset. This reduces overfitting and betters the performance of the model.\n",
    "\n",
    "    Moreover, if the data is extremely high-dimensional because of a large amount of features, the computational complexity of the model increases exponentially. This causes training of the model to slow down and make it harder for iterative learning to occur. This means a lot of features that may or may not be interrelated with each other have to be computed and with each added data point, the computational cost of resolving the distance, relation or densities increases.\n",
    "\n",
    "- Interpretability and Complexity : A high amount of features make a model very complex because of high dimensionality, which also means it may be difficult to interpret and understand the model's behaviour. Most unmodified and uncleaned datasets contain irrelevant features and noise, which when used to train a model may result in misleading information as the model becomes more and more susceptible to overfitting.\n",
    "\n",
    "    When we do feature selection, we understand directly what features are correlated with the target variable and how they may be related to it. By isolating the relevant features we gain more insight into how the model is internally operating, making the black box system of an ML model more tranparent and easier to interpret. \n",
    "\n",
    "    Since feature selection reduces complexity, representing the understood workings of a model also becomes easier and more simplified. This allows for easier and intuitive explanations and understanding of models.\n",
    "\n",
    "    If there is no feature selection done on the input dataset, it will often lead to *a loss in detail*, which means we lose the understanding of what features may be directly correlated with the target variable(s). This can cause a model to lose its attention to the important features and also the interpretability of the model to decrease because of potential misinformation gain."
   ]
  },
  {
   "attachments": {},
   "cell_type": "markdown",
   "metadata": {},
   "source": [
    "## Methods in feature selection\n",
    "\n",
    "There are several feature selection methods that can be employed for various scenarios in machine learning. Feature selection aims to find the best representative features for a given problem or for dealing with a target variable. Feature selection techniques exist for both supervised and unsupervised methods.\n",
    "\n",
    "## Filter Methods\n",
    "\n",
    "Filter methods are series of statistically based feature selection methods which guage the relevance of a feature based on their individual characteristics or statistical properties. They are computationally efficient methods that can be used while preprocessing the data.\n",
    "\n",
    "There's various types of filter methods:\n",
    "\n",
    "## Correlation methods\n",
    "This method measures the correlation between the target variable and the features. This method was explored on [Day 2](https://github.com/snowclipsed/100daysofml/blob/main/Day%202/Day%202.ipynb) of 100DoMLC. \n",
    "\n",
    "--- \n",
    "### Information Gain Method\n",
    "\n",
    "Information Gain is a method of calculating the reduction of entropy from feature transformation, i.e. ; it tells us the amount of informationt hat a feature provides about a target variable. Entropy is lowered because it is the loss of information and information from a featuee is gained. Information in the context of a machine learning dataset can also be termed as how \"surprising\" an encountered data point is to the model - if it is less surprising or is a lower probability event, the model learns that what it knows stands, if it is a lot more surprising than expected or has a high probability to occur acc to the model, then the model may have to take some steps to adjust this newly gained information about the data point. \n",
    "\n",
    "Measuring the amount of information gained tells us how strongly a feature affects the target variable, specially in the context of decision tree algorithms, where a feature of high information gain is chosen as the feature to split for at each node.\n",
    "\n",
    "In a binary classification problem with an output of 0 and 1, we can measure entropy by the formula : $$ Entropy = -(p(0)) * log(P(0)) + p(1) * log(P(1)) $$\n",
    "\n",
    "\n",
    "\n",
    "\n",
    "\n",
    "\n",
    "\n"
   ]
  },
  {
   "attachments": {},
   "cell_type": "markdown",
   "metadata": {},
   "source": [
    "If a dataset has a perfectly balanced probability distribution, it has a high entropy because the surprise factor of getting any given value is the highest in such a distribution. However, if the probability distribution is skewed towards a direction, we understand that more values are concentrated towards the region of the graph where the probability is the highest."
   ]
  },
  {
   "attachments": {},
   "cell_type": "markdown",
   "metadata": {},
   "source": [
    "Information gain can use entropy to find out the purity or the skewedness of a dataset. A more pure dataset means that the probability distribution of the datapoints is more uniform.\n",
    "\n",
    "Suppose we have a dataset \"S\" and a random variable \"a\"\n",
    "\n",
    "then Information Gain :\n",
    "\n",
    "$$ IG (S,a) = H(S) - H(S | a) $$\n",
    "\n",
    "where IG(S,a) is the information gain from the dataset, and H(S) is the standard entropy of the unchanged model. Meanwhile, H(S | a) is the entropy with a variable \"a\" into consideration. H(S | a) can be calculated by taking the ratio of examples in the dataset where a variable a has a value V to the total datapoints in the dataset multiplied by the combined entropy of the examples where the variable a has value V.\n",
    "\n",
    "$$ H(S | a) = \\sum \\frac{Sa(v)}{S} * H(Sa(v)) $$\n",
    "\n",
    "\n"
   ]
  },
  {
   "attachments": {},
   "cell_type": "markdown",
   "metadata": {},
   "source": [
    "---\n",
    "### Chi Squared Test Method\n",
    "\n",
    "This method is valid for selecting features which are categorical and for categorical datasets. We apply the Chi-Square method on each categorical feature and pick the features which have good chi squared scores. \n",
    "\n",
    "The Chi-Squared score is based on the null hypothesis, which assumes that any feature or variable has zero correlation with one another as well as the alternate hypothesis which means that a feature or variable has some amount of correlation with the target feature/variable. The Chi-square formula works on the concept of frequencies or occurances of datapoints in the dataset and work well with frequency based datasets.\n",
    "\n",
    "\n",
    "After definining our two hypotheses, we draw a contingency table with the observed frequencies/values of the features. Next, we find the expected value of the features according to our first hypothesis, the null hypothesis. \n",
    "\n",
    "$$ \n",
    "\n",
    "P(A \\cap B) = P(A) * P(B) \n",
    "$$\n",
    "or\n",
    "$$\n",
    "Expected Frequency = \\frac {Row Frequency  * Column Frequency }{GrandSum}\n",
    "$$ \n",
    "\n",
    "\n"
   ]
  },
  {
   "attachments": {},
   "cell_type": "markdown",
   "metadata": {},
   "source": [
    "Now let's import a dataset to perform the chi-squared method on :"
   ]
  },
  {
   "cell_type": "code",
   "execution_count": 23,
   "metadata": {},
   "outputs": [
    {
     "data": {
      "text/html": [
       "<div>\n",
       "<style scoped>\n",
       "    .dataframe tbody tr th:only-of-type {\n",
       "        vertical-align: middle;\n",
       "    }\n",
       "\n",
       "    .dataframe tbody tr th {\n",
       "        vertical-align: top;\n",
       "    }\n",
       "\n",
       "    .dataframe thead th {\n",
       "        text-align: right;\n",
       "    }\n",
       "</style>\n",
       "<table border=\"1\" class=\"dataframe\">\n",
       "  <thead>\n",
       "    <tr style=\"text-align: right;\">\n",
       "      <th></th>\n",
       "      <th>P_Class</th>\n",
       "      <th>Survived</th>\n",
       "      <th>Died</th>\n",
       "    </tr>\n",
       "  </thead>\n",
       "  <tbody>\n",
       "    <tr>\n",
       "      <th>0</th>\n",
       "      <td>1</td>\n",
       "      <td>50</td>\n",
       "      <td>57</td>\n",
       "    </tr>\n",
       "    <tr>\n",
       "      <th>1</th>\n",
       "      <td>2</td>\n",
       "      <td>30</td>\n",
       "      <td>63</td>\n",
       "    </tr>\n",
       "    <tr>\n",
       "      <th>2</th>\n",
       "      <td>3</td>\n",
       "      <td>72</td>\n",
       "      <td>146</td>\n",
       "    </tr>\n",
       "  </tbody>\n",
       "</table>\n",
       "</div>"
      ],
      "text/plain": [
       "  P_Class  Survived  Died\n",
       "0       1        50    57\n",
       "1       2        30    63\n",
       "2       3        72   146"
      ]
     },
     "execution_count": 23,
     "metadata": {},
     "output_type": "execute_result"
    }
   ],
   "source": [
    "\n",
    "import numpy as np \n",
    "import pandas as pd \n",
    "import scipy.stats as stats\n",
    "\n",
    "chi_data = pd.read_csv(\"data/titanic.csv\")\n",
    "\n",
    "p_first_saved = chi_data.loc[(chi_data['Pclass'] == 1) & (chi_data['Survived'] == 1)]\n",
    "p_first_lost = chi_data.loc[(chi_data['Pclass'] == 1) & (chi_data['Survived'] == 0)]\n",
    "p_second_saved = chi_data.loc[(chi_data['Pclass'] == 2) & (chi_data['Survived'] == 1)]\n",
    "p_second_lost = chi_data.loc[(chi_data['Pclass'] == 2) & (chi_data['Survived'] == 0)]\n",
    "p_third_saved = chi_data.loc[(chi_data['Pclass'] == 3) & (chi_data['Survived'] == 1)]\n",
    "p_third_lost = chi_data.loc[(chi_data['Pclass'] == 3) & (chi_data['Survived'] == 0)]\n",
    "\n",
    "len(p_first_saved.index), len(p_first_lost.index), len(p_second_saved.index), len(p_second_lost.index), len(p_third_saved.index), len(p_third_lost.index)\n",
    "\n",
    "frequencies = {'P_Class' : [\"1\", \"2\", \"3\"],\n",
    "                'Survived' : [len(p_first_saved), len(p_second_saved), len(p_third_saved)],\n",
    "               'Died' : [len(p_first_lost), len(p_second_lost), len(p_third_lost)]}\n",
    "\n",
    "freq_data = pd.DataFrame(frequencies, columns= ['P_Class','Survived', 'Died'])\n",
    "\n",
    "freq_data"
   ]
  },
  {
   "attachments": {},
   "cell_type": "markdown",
   "metadata": {},
   "source": [
    "The table above contains the \"observed values\" for the dataset.\n",
    "\n",
    "Now we can calculate the expected values from the observed values table."
   ]
  },
  {
   "cell_type": "code",
   "execution_count": 3,
   "metadata": {},
   "outputs": [
    {
     "data": {
      "text/html": [
       "<div>\n",
       "<style scoped>\n",
       "    .dataframe tbody tr th:only-of-type {\n",
       "        vertical-align: middle;\n",
       "    }\n",
       "\n",
       "    .dataframe tbody tr th {\n",
       "        vertical-align: top;\n",
       "    }\n",
       "\n",
       "    .dataframe thead th {\n",
       "        text-align: right;\n",
       "    }\n",
       "</style>\n",
       "<table border=\"1\" class=\"dataframe\">\n",
       "  <thead>\n",
       "    <tr style=\"text-align: right;\">\n",
       "      <th></th>\n",
       "      <th>P_Class</th>\n",
       "      <th>Survived</th>\n",
       "      <th>Died</th>\n",
       "    </tr>\n",
       "  </thead>\n",
       "  <tbody>\n",
       "    <tr>\n",
       "      <th>0</th>\n",
       "      <td>1</td>\n",
       "      <td>38.909091</td>\n",
       "      <td>68.090909</td>\n",
       "    </tr>\n",
       "    <tr>\n",
       "      <th>1</th>\n",
       "      <td>2</td>\n",
       "      <td>33.818182</td>\n",
       "      <td>59.181818</td>\n",
       "    </tr>\n",
       "    <tr>\n",
       "      <th>2</th>\n",
       "      <td>3</td>\n",
       "      <td>79.272727</td>\n",
       "      <td>138.727273</td>\n",
       "    </tr>\n",
       "  </tbody>\n",
       "</table>\n",
       "</div>"
      ],
      "text/plain": [
       "  P_Class   Survived        Died\n",
       "0       1  38.909091   68.090909\n",
       "1       2  33.818182   59.181818\n",
       "2       3  79.272727  138.727273"
      ]
     },
     "execution_count": 3,
     "metadata": {},
     "output_type": "execute_result"
    }
   ],
   "source": [
    "total_saved = len(p_first_saved) + len(p_second_saved) + len(p_third_saved)\n",
    "total_died = len(p_first_lost) + len(p_second_lost) + len(p_third_lost)\n",
    "expected = {'P_Class' : [\"1\", \"2\", \"3\"],\n",
    "                'Survived' : [(50+57)*total_saved/418, (30+63)*total_saved/418, (72+146)*total_saved/418],\n",
    "               'Died' : [(50+57)*total_died/418, (30+63)*total_died/418, (72+146)*total_died/418]}\n",
    "\n",
    "expected_data = pd.DataFrame(expected, columns= ['P_Class','Survived', 'Died'])\n",
    "expected_data"
   ]
  },
  {
   "attachments": {},
   "cell_type": "markdown",
   "metadata": {},
   "source": [
    "Now Chi-Square metric can be identified by : \n",
    "\n",
    "$$ \\chi ^2 = \\frac {(Observed - Expected) ^ 2}{Expected} $$"
   ]
  },
  {
   "cell_type": "code",
   "execution_count": 26,
   "metadata": {},
   "outputs": [
    {
     "data": {
      "text/html": [
       "<div>\n",
       "<style scoped>\n",
       "    .dataframe tbody tr th:only-of-type {\n",
       "        vertical-align: middle;\n",
       "    }\n",
       "\n",
       "    .dataframe tbody tr th {\n",
       "        vertical-align: top;\n",
       "    }\n",
       "\n",
       "    .dataframe thead th {\n",
       "        text-align: right;\n",
       "    }\n",
       "</style>\n",
       "<table border=\"1\" class=\"dataframe\">\n",
       "  <thead>\n",
       "    <tr style=\"text-align: right;\">\n",
       "      <th></th>\n",
       "      <th>P_Class</th>\n",
       "      <th>Survived</th>\n",
       "      <th>Died</th>\n",
       "    </tr>\n",
       "  </thead>\n",
       "  <tbody>\n",
       "    <tr>\n",
       "      <th>0</th>\n",
       "      <td>1</td>\n",
       "      <td>3.161487</td>\n",
       "      <td>1.806527</td>\n",
       "    </tr>\n",
       "    <tr>\n",
       "      <th>1</th>\n",
       "      <td>2</td>\n",
       "      <td>0.431046</td>\n",
       "      <td>0.246337</td>\n",
       "    </tr>\n",
       "    <tr>\n",
       "      <th>2</th>\n",
       "      <td>3</td>\n",
       "      <td>0.667095</td>\n",
       "      <td>0.381278</td>\n",
       "    </tr>\n",
       "  </tbody>\n",
       "</table>\n",
       "</div>"
      ],
      "text/plain": [
       "  P_Class  Survived      Died\n",
       "0       1  3.161487  1.806527\n",
       "1       2  0.431046  0.246337\n",
       "2       3  0.667095  0.381278"
      ]
     },
     "execution_count": 26,
     "metadata": {},
     "output_type": "execute_result"
    }
   ],
   "source": [
    "chivalues = {'P_Class' : [\"1\", \"2\", \"3\"],\n",
    "            'Survived' : [np.square(50-38.909)/38.909, np.square(30-33.818)/33.818, np.square(72-79.272)/79.272],\n",
    "            'Died' : [np.square(68.0909-57)/68.0909, np.square(59.1818-63)/59.1818, np.square(138.7272-146)/138.7272]}\n",
    "\n",
    "chitable = pd.DataFrame(chivalues, columns= ['P_Class','Survived', 'Died'])\n",
    "chitable"
   ]
  },
  {
   "attachments": {},
   "cell_type": "markdown",
   "metadata": {},
   "source": [
    "Here we see that first class is more strongly correlated to survival because of its high chi-square value.\n",
    "\n",
    "-----"
   ]
  },
  {
   "attachments": {},
   "cell_type": "markdown",
   "metadata": {},
   "source": [
    "### Fisher's Score\n",
    "\n",
    "It is one of the most widely used supervised methods for feature selection in ML. This metric allows to determine the best features that can discriminate or seperate different classes in a categorical dataset. Fisher score essentially quantifies the discrimination power of a feature into a number and ranking (called the indicator projector matrix), and it is sensitive to both inter class and intra class variance of features. \n",
    "\n",
    "\n",
    "The fisher score is calculated as the ratio of inter and intra class variance of a feature. It is a supervised linear feature extraction method. Computing the fisher's matrix is similar as well as highly related to the maximum likelihood estimation technnique for statastical models. \n",
    "\n",
    "\n",
    "\n"
   ]
  }
 ],
 "metadata": {
  "kernelspec": {
   "display_name": "Python 3",
   "language": "python",
   "name": "python3"
  },
  "language_info": {
   "codemirror_mode": {
    "name": "ipython",
    "version": 3
   },
   "file_extension": ".py",
   "mimetype": "text/x-python",
   "name": "python",
   "nbconvert_exporter": "python",
   "pygments_lexer": "ipython3",
   "version": "3.11.3"
  },
  "orig_nbformat": 4
 },
 "nbformat": 4,
 "nbformat_minor": 2
}
